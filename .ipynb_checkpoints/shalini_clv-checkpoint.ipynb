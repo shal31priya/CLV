{
 "cells": [
  {
   "cell_type": "code",
   "execution_count": 1,
   "id": "4796da20-382d-40f9-9f85-1ac26d681e5b",
   "metadata": {},
   "outputs": [
    {
     "ename": "ModuleNotFoundError",
     "evalue": "No module named 'mysql'",
     "output_type": "error",
     "traceback": [
      "\u001b[0;31m---------------------------------------------------------------------------\u001b[0m",
      "\u001b[0;31mModuleNotFoundError\u001b[0m                       Traceback (most recent call last)",
      "Cell \u001b[0;32mIn[1], line 1\u001b[0m\n\u001b[0;32m----> 1\u001b[0m \u001b[38;5;28;01mimport\u001b[39;00m \u001b[38;5;21;01mmysql\u001b[39;00m\n\u001b[1;32m      2\u001b[0m \u001b[38;5;28;01mimport\u001b[39;00m \u001b[38;5;21;01mpymysql\u001b[39;00m\n\u001b[1;32m      3\u001b[0m \u001b[38;5;28;01mimport\u001b[39;00m \u001b[38;5;21;01mmysql\u001b[39;00m\u001b[38;5;21;01m.\u001b[39;00m\u001b[38;5;21;01mconnector\u001b[39;00m\n",
      "\u001b[0;31mModuleNotFoundError\u001b[0m: No module named 'mysql'"
     ]
    }
   ],
   "source": [
    "import mysql\n",
    "import pymysql\n",
    "#import mysql.connector\n",
    "#from sqlalchemy import create_engine\n",
    "import datetime as dt\n",
    "import pandas as pd\n",
    "import matplotlib.pyplot as plt\n",
    "from lifetimes import BetaGeoFitter\n",
    "from lifetimes import GammaGammaFitter\n",
    "from lifetimes.plotting import plot_period_transactions\n",
    "from sklearn.preprocessing import MinMaxScaler"
   ]
  },
  {
   "cell_type": "code",
   "execution_count": null,
   "id": "8071199a-8784-4781-91c3-a0c7b2cdf99d",
   "metadata": {},
   "outputs": [],
   "source": [
    "pd.set_option('display.max_columns', None)\n",
    "pd.set_option('display.width', 500)\n",
    "pd.set_option('display.float_format', lambda x: '%.4f' % x)\n",
    "\n",
    "# Read .csv file:\n",
    "# Dataset: https://archive.ics.uci.edu/ml/datasets/Online+Retail+II\n",
    "df_ = pd.read_excel(\"datasets/online_retail_II.xlsx\",\n",
    "                    sheet_name=\"Year 2010-2011\")\n",
    "df = df_.copy()\n",
    "df.shape\n",
    "\n",
    "##### Data Preparation:\n",
    "# First look at the data, drop null observations,\n",
    "# drop negative invoice observations,\n",
    "# Drop quantity observations that are < 0\n",
    "\n",
    "df.describe().T\n",
    "df.dropna(inplace=True)\n",
    "df.isnull().sum()\n",
    "df = df[~df[\"Invoice\"].str.contains(\"C\", na=False)]\n",
    "df = df[df[\"Quantity\"] > 0]\n",
    "df.head()\n"
   ]
  }
 ],
 "metadata": {
  "kernelspec": {
   "display_name": "Python 3 (ipykernel)",
   "language": "python",
   "name": "python3"
  },
  "language_info": {
   "codemirror_mode": {
    "name": "ipython",
    "version": 3
   },
   "file_extension": ".py",
   "mimetype": "text/x-python",
   "name": "python",
   "nbconvert_exporter": "python",
   "pygments_lexer": "ipython3",
   "version": "3.11.0"
  }
 },
 "nbformat": 4,
 "nbformat_minor": 5
}
